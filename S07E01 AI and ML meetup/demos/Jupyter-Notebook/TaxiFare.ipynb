{
 "cells": [
  {
   "cell_type": "code",
   "execution_count": 1,
   "metadata": {},
   "outputs": [
    {
     "data": {
      "text/html": [
       "<div>\n",
       "<style scoped>\n",
       "    .dataframe tbody tr th:only-of-type {\n",
       "        vertical-align: middle;\n",
       "    }\n",
       "\n",
       "    .dataframe tbody tr th {\n",
       "        vertical-align: top;\n",
       "    }\n",
       "\n",
       "    .dataframe thead th {\n",
       "        text-align: right;\n",
       "    }\n",
       "</style>\n",
       "<table border=\"1\" class=\"dataframe\">\n",
       "  <thead>\n",
       "    <tr style=\"text-align: right;\">\n",
       "      <th></th>\n",
       "      <th>rate_code</th>\n",
       "      <th>passenger_count</th>\n",
       "      <th>trip_time_in_secs</th>\n",
       "      <th>trip_distance</th>\n",
       "      <th>fare_amount</th>\n",
       "      <th>vendor_CMT</th>\n",
       "      <th>vendor_VTS</th>\n",
       "      <th>payment_CRD</th>\n",
       "      <th>payment_CSH</th>\n",
       "      <th>payment_DIS</th>\n",
       "      <th>payment_NOC</th>\n",
       "      <th>payment_UNK</th>\n",
       "    </tr>\n",
       "  </thead>\n",
       "  <tbody>\n",
       "    <tr>\n",
       "      <th>0</th>\n",
       "      <td>1</td>\n",
       "      <td>1</td>\n",
       "      <td>1271</td>\n",
       "      <td>3.8</td>\n",
       "      <td>17.5</td>\n",
       "      <td>1</td>\n",
       "      <td>0</td>\n",
       "      <td>1</td>\n",
       "      <td>0</td>\n",
       "      <td>0</td>\n",
       "      <td>0</td>\n",
       "      <td>0</td>\n",
       "    </tr>\n",
       "    <tr>\n",
       "      <th>1</th>\n",
       "      <td>1</td>\n",
       "      <td>1</td>\n",
       "      <td>474</td>\n",
       "      <td>1.5</td>\n",
       "      <td>8.0</td>\n",
       "      <td>1</td>\n",
       "      <td>0</td>\n",
       "      <td>1</td>\n",
       "      <td>0</td>\n",
       "      <td>0</td>\n",
       "      <td>0</td>\n",
       "      <td>0</td>\n",
       "    </tr>\n",
       "    <tr>\n",
       "      <th>2</th>\n",
       "      <td>1</td>\n",
       "      <td>1</td>\n",
       "      <td>637</td>\n",
       "      <td>1.4</td>\n",
       "      <td>8.5</td>\n",
       "      <td>1</td>\n",
       "      <td>0</td>\n",
       "      <td>1</td>\n",
       "      <td>0</td>\n",
       "      <td>0</td>\n",
       "      <td>0</td>\n",
       "      <td>0</td>\n",
       "    </tr>\n",
       "    <tr>\n",
       "      <th>3</th>\n",
       "      <td>1</td>\n",
       "      <td>1</td>\n",
       "      <td>181</td>\n",
       "      <td>0.6</td>\n",
       "      <td>4.5</td>\n",
       "      <td>1</td>\n",
       "      <td>0</td>\n",
       "      <td>0</td>\n",
       "      <td>1</td>\n",
       "      <td>0</td>\n",
       "      <td>0</td>\n",
       "      <td>0</td>\n",
       "    </tr>\n",
       "    <tr>\n",
       "      <th>4</th>\n",
       "      <td>1</td>\n",
       "      <td>1</td>\n",
       "      <td>661</td>\n",
       "      <td>1.1</td>\n",
       "      <td>8.5</td>\n",
       "      <td>1</td>\n",
       "      <td>0</td>\n",
       "      <td>1</td>\n",
       "      <td>0</td>\n",
       "      <td>0</td>\n",
       "      <td>0</td>\n",
       "      <td>0</td>\n",
       "    </tr>\n",
       "  </tbody>\n",
       "</table>\n",
       "</div>"
      ],
      "text/plain": [
       "   rate_code  passenger_count  trip_time_in_secs  trip_distance  fare_amount  \\\n",
       "0          1                1               1271            3.8         17.5   \n",
       "1          1                1                474            1.5          8.0   \n",
       "2          1                1                637            1.4          8.5   \n",
       "3          1                1                181            0.6          4.5   \n",
       "4          1                1                661            1.1          8.5   \n",
       "\n",
       "   vendor_CMT  vendor_VTS  payment_CRD  payment_CSH  payment_DIS  payment_NOC  \\\n",
       "0           1           0            1            0            0            0   \n",
       "1           1           0            1            0            0            0   \n",
       "2           1           0            1            0            0            0   \n",
       "3           1           0            0            1            0            0   \n",
       "4           1           0            1            0            0            0   \n",
       "\n",
       "   payment_UNK  \n",
       "0            0  \n",
       "1            0  \n",
       "2            0  \n",
       "3            0  \n",
       "4            0  "
      ]
     },
     "execution_count": 1,
     "metadata": {},
     "output_type": "execute_result"
    }
   ],
   "source": [
    "import sklearn\n",
    "import pandas as pd\n",
    "train_file = 'taxi-fare-train.csv'\n",
    "test_file = 'taxi-fare-test.csv'\n",
    "\n",
    "df_train, df_test = pd.read_csv(train_file), pd.read_csv(test_file)\n",
    "df_train = pd.get_dummies(df_train, columns=[\"vendor_id\", \"payment_type\"], prefix=[\"vendor\", \"payment\"])\n",
    "\n",
    "df_test = pd.get_dummies(df_test, columns=[\"vendor_id\", \"payment_type\"], prefix=[\"vendor\", \"payment\"])\n",
    "df_train.head()\n"
   ]
  },
  {
   "cell_type": "code",
   "execution_count": 2,
   "metadata": {},
   "outputs": [
    {
     "name": "stderr",
     "output_type": "stream",
     "text": [
      "C:\\Users\\sashaeve\\Anaconda3\\lib\\site-packages\\sklearn\\cross_validation.py:41: DeprecationWarning: This module was deprecated in version 0.18 in favor of the model_selection module into which all the refactored classes and functions are moved. Also note that the interface of the new CV iterators are different from that of this module. This module will be removed in 0.20.\n",
      "  \"This module will be removed in 0.20.\", DeprecationWarning)\n",
      "C:\\Users\\sashaeve\\Anaconda3\\lib\\site-packages\\sklearn\\grid_search.py:42: DeprecationWarning: This module was deprecated in version 0.18 in favor of the model_selection module into which all the refactored classes and functions are moved. This module will be removed in 0.20.\n",
      "  DeprecationWarning)\n"
     ]
    },
    {
     "name": "stdout",
     "output_type": "stream",
     "text": [
      "Train mse: 5.141530327995426\n",
      "Train rmse: 2.2674942840050174\n",
      "Train r2: 0.9441429371345981\n",
      "5-fold cross validations results by fold:\n",
      "0-th fold score: 5.1261709598731855\n",
      "1-th fold score: 6.900199524840422\n",
      "2-th fold score: 5.268825535101378\n",
      "3-th fold score: 5.022233098994278\n",
      "4-th fold score: 4.597019851347402\n"
     ]
    },
    {
     "data": {
      "image/png": "[encoded data removed]",
      "text/plain": [
       "<Figure size 432x288 with 1 Axes>"
      ]
     },
     "metadata": {},
     "output_type": "display_data"
    }
   ],
   "source": [
    "import numpy as np\n",
    "from sklearn.model_selection import cross_val_score\n",
    "from sklearn.preprocessing import OneHotEncoder\n",
    "from sklearn.grid_search import GridSearchCV\n",
    "from sklearn.metrics import mean_squared_error, r2_score\n",
    "from sklearn.datasets import make_friedman1\n",
    "from sklearn.ensemble import GradientBoostingRegressor\n",
    "import matplotlib.pylab as plt\n",
    "%matplotlib inline\n",
    "from matplotlib.pylab import rcParams\n",
    "\n",
    "\n",
    "#encoder = OneHotEncoder()\n",
    "def cv_fit(model, X, y, important_features=True, cv_folds=5):\n",
    "    model.fit(X, y)\n",
    "    train_predictions = model.predict(X)\n",
    "    train_score = mean_squared_error(y, train_predictions)\n",
    "    train_r2 = r2_score(y, train_predictions)\n",
    "    scores = cross_val_score(model, X, y, cv=cv_folds, scoring='neg_mean_squared_error')\n",
    "    \n",
    "    print('Train mse: {}'.format(train_score))\n",
    "    print('Train rmse: {}'.format(train_score**(0.5)))\n",
    "    print('Train r2: {}'.format(train_r2))\n",
    "    print('{}-fold cross validations results by fold:'.format(str(cv_folds)))\n",
    "    for i, item in enumerate(scores):\n",
    "        print('{}-th fold score: {}'.format(i, -item))\n",
    "        \n",
    "    if important_features:\n",
    "        predictors = [col for col in X.columns]\n",
    "        feat_imp = pd.Series(model.feature_importances_, predictors).sort_values(ascending=False)\n",
    "        feat_imp.plot(kind='bar', title='Feature Importances')\n",
    "        plt.ylabel('Feature Importance Score')\n",
    "    \n",
    "X_train, y_train = df_train.loc[:, df_train.columns!='fare_amount'], df_train.loc[:, 'fare_amount']\n",
    "X_test, y_test = df_test.loc[:, df_test.columns!='fare_amount'], df_test.loc[:, 'fare_amount']\n",
    "\n",
    "# gb = GradientBoostingRegressor(n_estimators=100, learning_rate=0.1,\n",
    "#         max_depth=1, random_state=0, loss='ls')\n",
    "# est = gb.fit(X_train, y_train)\n",
    "# mean_squared_error(y_test, est.predict(X_test))    \n",
    "gbm = GradientBoostingRegressor(n_estimators=100, learning_rate=0.1, max_depth=3, random_state=0, loss='ls' )\n",
    "cv_fit(gbm, X_train, y_train)"
   ]
  },
  {
   "cell_type": "code",
   "execution_count": 3,
   "metadata": {},
   "outputs": [
    {
     "data": {
      "text/plain": [
       "8.4600093144369"
      ]
     },
     "execution_count": 3,
     "metadata": {},
     "output_type": "execute_result"
    }
   ],
   "source": [
    "# To compare time with ML.NET\n",
    "\n",
    "gbm_new = GradientBoostingRegressor(n_estimators=150, learning_rate=0.1, max_depth=1, random_state=0, loss='ls')\n",
    "gbm_new.fit(X_train, y_train)\n",
    "y_pred = gbm_new.predict(X_train)\n",
    "mean_squared_error(y_train, y_pred)"
   ]
  },
  {
   "cell_type": "code",
   "execution_count": 4,
   "metadata": {},
   "outputs": [
    {
     "data": {
      "text/plain": [
       "([mean: -5.15833, std: 0.86828, params: {'n_estimators': 50},\n",
       "  mean: -5.07409, std: 0.88164, params: {'n_estimators': 60},\n",
       "  mean: -5.04325, std: 0.88907, params: {'n_estimators': 70},\n",
       "  mean: -5.02360, std: 0.90019, params: {'n_estimators': 80},\n",
       "  mean: -5.00442, std: 0.90098, params: {'n_estimators': 90}],\n",
       " {'n_estimators': 90},\n",
       " -5.004417133335993)"
      ]
     },
     "execution_count": 4,
     "metadata": {},
     "output_type": "execute_result"
    }
   ],
   "source": [
    "predictors = [x for x in X_train.columns]\n",
    "param_test1 = {'n_estimators':[i for i in range(50,100,10)]}\n",
    "gsearch1 = GridSearchCV(estimator = GradientBoostingRegressor(learning_rate=0.1, min_samples_split=500, min_samples_leaf=50, max_depth=8, max_features='sqrt',subsample=0.8,random_state=0), \n",
    "param_grid = param_test1, scoring='neg_mean_squared_error',n_jobs=4,iid=False, cv=5)\n",
    "gsearch1.fit(X_train, y_train)\n",
    "gsearch1.grid_scores_, gsearch1.best_params_, gsearch1.best_score_"
   ]
  },
  {
   "cell_type": "code",
   "execution_count": null,
   "metadata": {},
   "outputs": [],
   "source": []
  },
  {
   "cell_type": "code",
   "execution_count": null,
   "metadata": {},
   "outputs": [],
   "source": []
  }
 ],
 "metadata": {
  "kernelspec": {
   "display_name": "Python 3",
   "language": "python",
   "name": "python3"
  },
  "language_info": {
   "codemirror_mode": {
    "name": "ipython",
    "version": 3
   },
   "file_extension": ".py",
   "mimetype": "text/x-python",
   "name": "python",
   "nbconvert_exporter": "python",
   "pygments_lexer": "ipython3",
   "version": "3.6.5"
  }
 },
 "nbformat": 4,
 "nbformat_minor": 2
}
